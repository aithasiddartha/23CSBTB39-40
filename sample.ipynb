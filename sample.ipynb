{
  "nbformat": 4,
  "nbformat_minor": 0,
  "metadata": {
    "colab": {
      "provenance": [],
      "authorship_tag": "ABX9TyNKsjCYqhsIj60USiIVkpqa",
      "include_colab_link": true
    },
    "kernelspec": {
      "name": "python3",
      "display_name": "Python 3"
    },
    "language_info": {
      "name": "python"
    }
  },
  "cells": [
    {
      "cell_type": "markdown",
      "metadata": {
        "id": "view-in-github",
        "colab_type": "text"
      },
      "source": [
        "<a href=\"https://colab.research.google.com/github/aithasiddartha/23CSBTB39-40/blob/main/sample.ipynb\" target=\"_parent\"><img src=\"https://colab.research.google.com/assets/colab-badge.svg\" alt=\"Open In Colab\"/></a>"
      ]
    },
    {
      "cell_type": "code",
      "execution_count": 1,
      "metadata": {
        "colab": {
          "base_uri": "https://localhost:8080/"
        },
        "id": "DkZwy67a_sD8",
        "outputId": "b31b3e0f-9c33-4834-8d53-b537e58967b2"
      },
      "outputs": [
        {
          "output_type": "stream",
          "name": "stdout",
          "text": [
            "mininum: 1\n"
          ]
        }
      ],
      "source": [
        "list=[1,2,3,4,5,6,7]\n",
        "min=list[0]\n",
        "for n in list:\n",
        "     if n<min:\n",
        "        min=n\n",
        "print(\"mininum:\",min)"
      ]
    }
  ]
}